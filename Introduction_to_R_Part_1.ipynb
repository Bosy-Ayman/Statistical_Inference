{
  "nbformat": 4,
  "nbformat_minor": 0,
  "metadata": {
    "colab": {
      "provenance": []
    },
    "kernelspec": {
      "name": "ir",
      "display_name": "R"
    },
    "language_info": {
      "name": "R"
    }
  },
  "cells": [
    {
      "cell_type": "markdown",
      "source": [
        "#Introduction to R Language"
      ],
      "metadata": {
        "id": "2d2B2uckmn7b"
      }
    },
    {
      "cell_type": "markdown",
      "source": [
        "## Data structures"
      ],
      "metadata": {
        "id": "w11jhQHEmbV4"
      }
    },
    {
      "cell_type": "markdown",
      "source": [
        "### Vectors(collection of same data type)"
      ],
      "metadata": {
        "id": "aLPk-7WYmXzL"
      }
    },
    {
      "cell_type": "code",
      "source": [
        "X = c(1, 3, 5, 9, 8)\n",
        "print(X)"
      ],
      "metadata": {
        "colab": {
          "base_uri": "https://localhost:8080/"
        },
        "id": "B5zWdT_fmUA5",
        "outputId": "793b0104-363e-43cf-a58a-fa9b3ca8c118"
      },
      "execution_count": null,
      "outputs": [
        {
          "output_type": "stream",
          "name": "stdout",
          "text": [
            "[1] 1 3 5 9 8\n"
          ]
        }
      ]
    },
    {
      "cell_type": "markdown",
      "source": [
        "### List (collection of different data type)"
      ],
      "metadata": {
        "id": "sRcUyC8RmgZe"
      }
    },
    {
      "cell_type": "code",
      "source": [
        "empId = c(1, 2, 3, 4)\n",
        "empName = c(\"Debi\", \"Sandeep\", \"Subham\", \"Shiba\")\n",
        "empList = list(empId, empName)\n",
        "print(empList)"
      ],
      "metadata": {
        "colab": {
          "base_uri": "https://localhost:8080/"
        },
        "id": "Xm0eNB-hmj9d",
        "outputId": "65b626f2-3bfe-4b46-d39e-947ccdb9506f"
      },
      "execution_count": null,
      "outputs": [
        {
          "output_type": "stream",
          "name": "stdout",
          "text": [
            "[[1]]\n",
            "[1] 1 2 3 4\n",
            "\n",
            "[[2]]\n",
            "[1] \"Debi\"    \"Sandeep\" \"Subham\"  \"Shiba\"  \n",
            "\n"
          ]
        }
      ]
    },
    {
      "cell_type": "markdown",
      "source": [
        "### Dataframe (table of different data type)"
      ],
      "metadata": {
        "id": "C4KqUupsmsc-"
      }
    },
    {
      "cell_type": "code",
      "source": [
        "Name = c(\"Amiya\", \"Raj\", \"Asish\")\n",
        "Language = c(\"R\", \"Python\", \"Java\")\n",
        "Age = c(22, 25, 45)\n",
        "df = data.frame(Name, Language, Age)\n",
        "print(df)"
      ],
      "metadata": {
        "colab": {
          "base_uri": "https://localhost:8080/"
        },
        "id": "1F0kopwNmrIg",
        "outputId": "2cb68222-4d7f-44dc-d827-8f3085ff9871"
      },
      "execution_count": null,
      "outputs": [
        {
          "output_type": "stream",
          "name": "stdout",
          "text": [
            "   Name Language Age\n",
            "1 Amiya        R  22\n",
            "2   Raj   Python  25\n",
            "3 Asish     Java  45\n"
          ]
        }
      ]
    },
    {
      "cell_type": "markdown",
      "source": [
        "### Matrix (table of same data type)"
      ],
      "metadata": {
        "id": "oTFhKOFgm9HR"
      }
    },
    {
      "cell_type": "code",
      "source": [
        "matrix(1:6, nrow = 2, ncol = 3)"
      ],
      "metadata": {
        "colab": {
          "base_uri": "https://localhost:8080/",
          "height": 132
        },
        "id": "ZxC35VzFm7zk",
        "outputId": "b19a9290-5e71-4dcc-85c6-21e57f4bede2"
      },
      "execution_count": null,
      "outputs": [
        {
          "output_type": "display_data",
          "data": {
            "text/html": [
              "<table class=\"dataframe\">\n",
              "<caption>A matrix: 2 × 3 of type int</caption>\n",
              "<tbody>\n",
              "\t<tr><td>1</td><td>3</td><td>5</td></tr>\n",
              "\t<tr><td>2</td><td>4</td><td>6</td></tr>\n",
              "</tbody>\n",
              "</table>\n"
            ],
            "text/markdown": "\nA matrix: 2 × 3 of type int\n\n| 1 | 3 | 5 |\n| 2 | 4 | 6 |\n\n",
            "text/latex": "A matrix: 2 × 3 of type int\n\\begin{tabular}{lll}\n\t 1 & 3 & 5\\\\\n\t 2 & 4 & 6\\\\\n\\end{tabular}\n",
            "text/plain": [
              "     [,1] [,2] [,3]\n",
              "[1,] 1    3    5   \n",
              "[2,] 2    4    6   "
            ]
          },
          "metadata": {}
        }
      ]
    },
    {
      "cell_type": "markdown",
      "source": [
        "### Array"
      ],
      "metadata": {
        "id": "W8kqtWETnG-2"
      }
    },
    {
      "cell_type": "code",
      "source": [
        "A = array(\n",
        "  c(1, 2, 3, 4, 5, 6, 7, 8),\n",
        "  dim = c(2, 2, 2)\n",
        ")\n",
        "print(A)"
      ],
      "metadata": {
        "colab": {
          "base_uri": "https://localhost:8080/"
        },
        "id": "hNuNDVianDQj",
        "outputId": "7bc13855-7c80-47cc-c98c-1c100bc8c6d9"
      },
      "execution_count": null,
      "outputs": [
        {
          "output_type": "stream",
          "name": "stdout",
          "text": [
            ", , 1\n",
            "\n",
            "     [,1] [,2]\n",
            "[1,]    1    3\n",
            "[2,]    2    4\n",
            "\n",
            ", , 2\n",
            "\n",
            "     [,1] [,2]\n",
            "[1,]    5    7\n",
            "[2,]    6    8\n",
            "\n"
          ]
        }
      ]
    },
    {
      "cell_type": "markdown",
      "source": [
        "## Variable Assignment"
      ],
      "metadata": {
        "id": "Z3qTDlaFnO2q"
      }
    },
    {
      "cell_type": "code",
      "source": [
        "var1 <- 'simple'\n",
        "3.5 -> var2\n",
        "var3 = 6"
      ],
      "metadata": {
        "id": "0gstJ-qTnTKP"
      },
      "execution_count": null,
      "outputs": []
    },
    {
      "cell_type": "code",
      "source": [
        "# ls function:  built-in function is used to know all the present variables in the workspace.\n",
        "print(ls())"
      ],
      "metadata": {
        "colab": {
          "base_uri": "https://localhost:8080/"
        },
        "id": "QmxPfCD4px4A",
        "outputId": "1ba95f1b-2363-48f7-db51-435b2d47d08a"
      },
      "execution_count": null,
      "outputs": [
        {
          "output_type": "stream",
          "name": "stdout",
          "text": [
            " [1] \"A\"        \"Age\"      \"df\"       \"empId\"    \"empList\"  \"empName\" \n",
            " [7] \"Language\" \"Name\"     \"var1\"     \"var2\"     \"var3\"     \"X\"       \n"
          ]
        }
      ]
    },
    {
      "cell_type": "code",
      "source": [
        "# rm () function: a built-in function used to delete an unwanted variable within your workspace.\n",
        "rm(var3)\n",
        "print(var3)"
      ],
      "metadata": {
        "colab": {
          "base_uri": "https://localhost:8080/",
          "height": 255
        },
        "id": "gY1vZQTOpzHA",
        "outputId": "959ddd2a-9cd7-402b-8169-d75145b02582"
      },
      "execution_count": null,
      "outputs": [
        {
          "output_type": "error",
          "ename": "ERROR",
          "evalue": "Error: object 'var3' not found\n",
          "traceback": [
            "Error: object 'var3' not found\nTraceback:\n",
            "1. .handleSimpleError(function (cnd) \n . {\n .     watcher$capture_plot_and_output()\n .     cnd <- sanitize_call(cnd)\n .     watcher$push(cnd)\n .     switch(on_error, continue = invokeRestart(\"eval_continue\"), \n .         stop = invokeRestart(\"eval_stop\"), error = invokeRestart(\"eval_error\", \n .             cnd))\n . }, \"object 'var3' not found\", base::quote(eval(expr, envir)))"
          ]
        }
      ]
    },
    {
      "cell_type": "markdown",
      "source": [
        "## Taking inputs from user"
      ],
      "metadata": {
        "id": "fmgCr_60p1gT"
      }
    },
    {
      "cell_type": "code",
      "source": [
        "var1 = readline(prompt = 'Enter any number :' )\n",
        "var1 = readline('Enter any number :' )"
      ],
      "metadata": {
        "colab": {
          "base_uri": "https://localhost:8080/"
        },
        "id": "5oKG24Ocp4JX",
        "outputId": "1c680400-7728-4953-847a-16e88ec92881"
      },
      "execution_count": null,
      "outputs": [
        {
          "name": "stdout",
          "output_type": "stream",
          "text": [
            "Enter any number :1\n",
            "Enter any number :2\n"
          ]
        }
      ]
    },
    {
      "cell_type": "markdown",
      "source": [
        "## Printing"
      ],
      "metadata": {
        "id": "neVHjujEp5dM"
      }
    },
    {
      "cell_type": "markdown",
      "source": [
        "### Print Outputs"
      ],
      "metadata": {
        "id": "imvAyeCiqEyx"
      }
    },
    {
      "cell_type": "code",
      "source": [
        "x <- \"number1\"\n",
        "print (x)\n",
        "#or\n",
        "x"
      ],
      "metadata": {
        "colab": {
          "base_uri": "https://localhost:8080/",
          "height": 53
        },
        "id": "9Hr5-AOsp-Pz",
        "outputId": "f9e1fd38-53a0-4977-d21d-cb7dc901615f"
      },
      "execution_count": null,
      "outputs": [
        {
          "output_type": "stream",
          "name": "stdout",
          "text": [
            "[1] \"number1\"\n"
          ]
        },
        {
          "output_type": "display_data",
          "data": {
            "text/html": [
              "'number1'"
            ],
            "text/markdown": "'number1'",
            "text/latex": "'number1'",
            "text/plain": [
              "[1] \"number1\""
            ]
          },
          "metadata": {}
        }
      ]
    },
    {
      "cell_type": "markdown",
      "source": [
        "### Print string with variable"
      ],
      "metadata": {
        "id": "kj9q1lCmqHh7"
      }
    },
    {
      "cell_type": "code",
      "source": [
        "# \"\\n\" for new line\n",
        "x = 5\n",
        "cat(x, \"is integer\\n\",\"new line\")"
      ],
      "metadata": {
        "colab": {
          "base_uri": "https://localhost:8080/"
        },
        "id": "hFKJFRiLqNTC",
        "outputId": "8f9adb35-3524-45c0-e213-894a6460d694"
      },
      "execution_count": null,
      "outputs": [
        {
          "output_type": "stream",
          "name": "stdout",
          "text": [
            "5 is integer\n",
            " new line"
          ]
        }
      ]
    },
    {
      "cell_type": "markdown",
      "source": [
        "### Calling the print() function using digits parameter"
      ],
      "metadata": {
        "id": "9IKdGk8HrURM"
      }
    },
    {
      "cell_type": "code",
      "source": [
        "x <- 55555 / 7\n",
        "x\n",
        "print(x, digits = 2)\n",
        "print(x, digits = 3)\n",
        "print(x, digits = 4)"
      ],
      "metadata": {
        "colab": {
          "base_uri": "https://localhost:8080/",
          "height": 89
        },
        "id": "0wO_OmVprRMu",
        "outputId": "5c2ede98-a803-46af-e1d9-630309893525"
      },
      "execution_count": null,
      "outputs": [
        {
          "output_type": "display_data",
          "data": {
            "text/html": [
              "7936.42857142857"
            ],
            "text/markdown": "7936.42857142857",
            "text/latex": "7936.42857142857",
            "text/plain": [
              "[1] 7936.429"
            ]
          },
          "metadata": {}
        },
        {
          "output_type": "stream",
          "name": "stdout",
          "text": [
            "[1] 7936\n",
            "[1] 7936\n",
            "[1] 7936\n"
          ]
        }
      ]
    },
    {
      "cell_type": "markdown",
      "source": [
        "## Conditions"
      ],
      "metadata": {
        "id": "HTeK-qaMrWHY"
      }
    },
    {
      "cell_type": "markdown",
      "source": [
        "### If- else condition"
      ],
      "metadata": {
        "id": "dLdX_SoUrYzn"
      }
    },
    {
      "cell_type": "code",
      "source": [
        "a <- 76\n",
        "b <- 67\n",
        "if (a > b)\n",
        "{\n",
        "  c <- a - b\n",
        "  print(\"condition a > b is TRUE\")\n",
        "  print(paste(\"Difference between a, b is : \", c))\n",
        "} else\n",
        "{\n",
        "  c <- a - b\n",
        "  print(\"condition a < b is TRUE\")\n",
        "  print(paste(\"Difference between a, b is : \", c))\n",
        "}"
      ],
      "metadata": {
        "colab": {
          "base_uri": "https://localhost:8080/"
        },
        "id": "Jv--aCpcrcSr",
        "outputId": "2bf76116-db50-44f4-8fd1-e6eeedb49428"
      },
      "execution_count": null,
      "outputs": [
        {
          "output_type": "stream",
          "name": "stdout",
          "text": [
            "[1] \"condition a > b is TRUE\"\n",
            "[1] \"Difference between a, b is :  9\"\n"
          ]
        }
      ]
    },
    {
      "cell_type": "code",
      "source": [
        "#Nested if else statement Example\n",
        "a <- 10\n",
        "b <- 11\n",
        "\n",
        "\n",
        "if(a == 10)\n",
        "{\n",
        "  if(b == 10)\n",
        "  {\n",
        "    print(\"a:10 b:10\")\n",
        "  } else\n",
        "  {\n",
        "    print(\"a:10 b:11\")\n",
        "  }\n",
        "} else\n",
        "{\n",
        "  if(a == 11)\n",
        "  {\n",
        "    print(\"a:11 b:10\")\n",
        "  } else\n",
        "  {\n",
        "    print(\"a:11 b:11\")\n",
        "  }\n",
        "}"
      ],
      "metadata": {
        "colab": {
          "base_uri": "https://localhost:8080/"
        },
        "id": "j_w6ZXCyrj0_",
        "outputId": "083cc2c3-dbe8-46a1-a7e7-1f7b035e8b84"
      },
      "execution_count": null,
      "outputs": [
        {
          "output_type": "stream",
          "name": "stdout",
          "text": [
            "[1] \"a:10 b:11\"\n"
          ]
        }
      ]
    },
    {
      "cell_type": "markdown",
      "source": [
        "### Switch"
      ],
      "metadata": {
        "id": "3HynWgRZrnMU"
      }
    },
    {
      "cell_type": "code",
      "source": [
        "val1 = 6\n",
        "val2 = 7\n",
        "val3 = \"s\"\n",
        "result = switch(\n",
        "  val3,\n",
        "  \"a\"= cat(\"Addition =\", val1 + val2),\n",
        "  \"d\"= cat(\"Subtraction =\", val1 - val2),\n",
        "  \"r\"= cat(\"Division = \", val1 / val2),\n",
        "  \"s\"= cat(\"Multiplication =\", val1 * val2),\n",
        "  \"m\"= cat(\"Modulus =\", val1 %% val2),\n",
        "  \"p\"= cat(\"Power =\", val1 ^ val2)\n",
        ")\n",
        "print(result)"
      ],
      "metadata": {
        "colab": {
          "base_uri": "https://localhost:8080/"
        },
        "id": "gcdRW3U_rpfd",
        "outputId": "39c07866-fc0f-47fd-c08b-fb8e33847197"
      },
      "execution_count": null,
      "outputs": [
        {
          "output_type": "stream",
          "name": "stdout",
          "text": [
            "Multiplication = 42NULL\n"
          ]
        }
      ]
    },
    {
      "cell_type": "markdown",
      "source": [
        "## Loops"
      ],
      "metadata": {
        "id": "r4Yj4wxprsVp"
      }
    },
    {
      "cell_type": "markdown",
      "source": [
        "### For loop"
      ],
      "metadata": {
        "id": "pSM5b1w-rt3D"
      }
    },
    {
      "cell_type": "code",
      "source": [
        "#1)\n",
        "\n",
        "week <- c('Sunday',\n",
        "          'Monday',\n",
        "          'Tuesday',\n",
        "          'Wednesday',\n",
        "          'Thursday',\n",
        "          'Friday',\n",
        "          'Saturday')\n",
        "\n",
        "# using for loop to iterate over each string in the vector\n",
        "for (day in week)\n",
        "{\n",
        "  print(day)\n",
        "}"
      ],
      "metadata": {
        "colab": {
          "base_uri": "https://localhost:8080/"
        },
        "id": "p2AJO_w4ryBg",
        "outputId": "5c7e10b1-10ff-403d-c136-2ea8ba222392"
      },
      "execution_count": null,
      "outputs": [
        {
          "output_type": "stream",
          "name": "stdout",
          "text": [
            "[1] \"Sunday\"\n",
            "[1] \"Monday\"\n",
            "[1] \"Tuesday\"\n",
            "[1] \"Wednesday\"\n",
            "[1] \"Thursday\"\n",
            "[1] \"Friday\"\n",
            "[1] \"Saturday\"\n"
          ]
        }
      ]
    },
    {
      "cell_type": "code",
      "source": [
        "#2)\n",
        "\n",
        "my_list <- list(1, 2, 3, 4, 5)\n",
        "\n",
        "# Loop through the list and print each element\n",
        "for (i in seq_along(my_list)) {\n",
        "  current_element <- my_list[[i]]\n",
        "  print(paste(\"The current element is:\", current_element))\n",
        "}"
      ],
      "metadata": {
        "colab": {
          "base_uri": "https://localhost:8080/"
        },
        "id": "HzpxxLhorzhQ",
        "outputId": "d3aac093-1eb1-4982-e645-3df573b823e3"
      },
      "execution_count": null,
      "outputs": [
        {
          "output_type": "stream",
          "name": "stdout",
          "text": [
            "[1] \"The current element is: 1\"\n",
            "[1] \"The current element is: 2\"\n",
            "[1] \"The current element is: 3\"\n",
            "[1] \"The current element is: 4\"\n",
            "[1] \"The current element is: 5\"\n"
          ]
        }
      ]
    },
    {
      "cell_type": "markdown",
      "source": [
        "### While loop"
      ],
      "metadata": {
        "id": "C6HpHxLgr1D1"
      }
    },
    {
      "cell_type": "code",
      "source": [
        "val = 1\n",
        "while (val <= 5)\n",
        "{\n",
        "  print(val)\n",
        "  val = val + 1\n",
        "}"
      ],
      "metadata": {
        "colab": {
          "base_uri": "https://localhost:8080/"
        },
        "id": "7FZtQuQSr4-M",
        "outputId": "f229c0a6-5ee0-4bd4-fd98-b154348660df"
      },
      "execution_count": null,
      "outputs": [
        {
          "output_type": "stream",
          "name": "stdout",
          "text": [
            "[1] 1\n",
            "[1] 2\n",
            "[1] 3\n",
            "[1] 4\n",
            "[1] 5\n"
          ]
        }
      ]
    },
    {
      "cell_type": "markdown",
      "source": [
        "### repeat loop"
      ],
      "metadata": {
        "id": "6ExrmfBHsogZ"
      }
    },
    {
      "cell_type": "code",
      "source": [
        "val = 1\n",
        "repeat\n",
        "{\n",
        "  print(val)\n",
        "  val = val + 1\n",
        "\n",
        "  # checking stop condition\n",
        "  if(val > 5)\n",
        "  {\n",
        "    break\n",
        "  }\n",
        "}"
      ],
      "metadata": {
        "colab": {
          "base_uri": "https://localhost:8080/"
        },
        "id": "TnOfzyj_snCK",
        "outputId": "93a84efe-7291-41ef-9522-b62ee0743a04"
      },
      "execution_count": null,
      "outputs": [
        {
          "output_type": "stream",
          "name": "stdout",
          "text": [
            "[1] 1\n",
            "[1] 2\n",
            "[1] 3\n",
            "[1] 4\n",
            "[1] 5\n"
          ]
        }
      ]
    },
    {
      "cell_type": "markdown",
      "source": [
        "### Jump Statments in loops"
      ],
      "metadata": {
        "id": "qqOjvXQlr-4-"
      }
    },
    {
      "cell_type": "markdown",
      "source": [
        "#### 1. break"
      ],
      "metadata": {
        "id": "VrmcS8ewsFEJ"
      }
    },
    {
      "cell_type": "code",
      "source": [
        "for (val in 1: 5)\n",
        "{\n",
        "  if (val == 3)\n",
        "  {\n",
        "    break\n",
        "  }\n",
        "\n",
        "  print(val)\n",
        "}"
      ],
      "metadata": {
        "colab": {
          "base_uri": "https://localhost:8080/"
        },
        "id": "oituMm6AsHdr",
        "outputId": "9f58aec0-42b6-4cd0-8b0b-1fb27b241a8c"
      },
      "execution_count": null,
      "outputs": [
        {
          "output_type": "stream",
          "name": "stdout",
          "text": [
            "[1] 1\n",
            "[1] 2\n"
          ]
        }
      ]
    },
    {
      "cell_type": "markdown",
      "source": [
        "#### 2. next"
      ],
      "metadata": {
        "id": "PJ1BFVyXsIUJ"
      }
    },
    {
      "cell_type": "code",
      "source": [
        "for (val in 1: 5)\n",
        "{\n",
        "  if (val == 3)\n",
        "  {\n",
        "    next\n",
        "  }\n",
        "\n",
        "  print(val)\n",
        "}"
      ],
      "metadata": {
        "colab": {
          "base_uri": "https://localhost:8080/"
        },
        "id": "gGTmvPyqsLj7",
        "outputId": "1052eeba-4767-4bf6-d9e4-08e1d1aee871"
      },
      "execution_count": null,
      "outputs": [
        {
          "output_type": "stream",
          "name": "stdout",
          "text": [
            "[1] 1\n",
            "[1] 2\n",
            "[1] 4\n",
            "[1] 5\n"
          ]
        }
      ]
    },
    {
      "cell_type": "markdown",
      "source": [
        "## Functions"
      ],
      "metadata": {
        "id": "bPJbDfbXpXcB"
      }
    },
    {
      "cell_type": "code",
      "source": [
        "add_num <- function(a,b)\n",
        "  {\n",
        "    sum_result <- a+b\n",
        "    return(sum_result)\n",
        "  }\n",
        "  sum = add_num(35,34)\n",
        "  print(sum)"
      ],
      "metadata": {
        "colab": {
          "base_uri": "https://localhost:8080/"
        },
        "id": "iDHpkEW2pRtQ",
        "outputId": "be5e3fa8-b6a8-4b16-f1d6-4a371464c9c4"
      },
      "execution_count": null,
      "outputs": [
        {
          "output_type": "stream",
          "name": "stdout",
          "text": [
            "[1] 69\n"
          ]
        }
      ]
    },
    {
      "cell_type": "markdown",
      "source": [
        "## Dataframe Manipulation"
      ],
      "metadata": {
        "id": "RK-NHLtansDx"
      }
    },
    {
      "cell_type": "markdown",
      "source": [
        "### 1. Row selection"
      ],
      "metadata": {
        "id": "UCzKD4Ianv9R"
      }
    },
    {
      "cell_type": "code",
      "source": [
        "df = data.frame(\n",
        "    \"Name\" = c(\"Amiya\", \"Raj\", \"Asish\"),\n",
        "    \"Language\" = c(\"R\", \"Python\", \"Java\"),\n",
        "    \"Age\" = c(22, 25, 45))\n",
        "print(df)\n",
        "  # Accessing first and second row\n",
        "cat(\"Accessing first and second row\\n\")\n",
        "print(df[1:2, ])"
      ],
      "metadata": {
        "colab": {
          "base_uri": "https://localhost:8080/"
        },
        "id": "bRRmnlE2n2CD",
        "outputId": "793cfeb7-a99b-4e03-8b8b-7d01a6359a29"
      },
      "execution_count": null,
      "outputs": [
        {
          "output_type": "stream",
          "name": "stdout",
          "text": [
            "   Name Language Age\n",
            "1 Amiya        R  22\n",
            "2   Raj   Python  25\n",
            "3 Asish     Java  45\n",
            "Accessing first and second row\n",
            "   Name Language Age\n",
            "1 Amiya        R  22\n",
            "2   Raj   Python  25\n"
          ]
        }
      ]
    },
    {
      "cell_type": "markdown",
      "source": [
        "### 2. Column selection"
      ],
      "metadata": {
        "id": "z6fF81xEn8I8"
      }
    },
    {
      "cell_type": "code",
      "source": [
        "df = data.frame(\n",
        "  \"Name\" = c(\"Amiya\", \"Raj\", \"Asish\"),\n",
        "  \"Language\" = c(\"R\", \"Python\", \"Java\"),\n",
        "  \"Age\" = c(22, 25, 45))\n",
        "print(df)\n",
        "# Accessing first and second row\n",
        "cat(\"Accessing first and second row\\n\")\n",
        "print(df[,1:2])"
      ],
      "metadata": {
        "colab": {
          "base_uri": "https://localhost:8080/"
        },
        "id": "WVXwtWp0n7OX",
        "outputId": "6a1420ab-c824-4fb5-d3ce-bc63b434d6ab"
      },
      "execution_count": null,
      "outputs": [
        {
          "output_type": "stream",
          "name": "stdout",
          "text": [
            "   Name Language Age\n",
            "1 Amiya        R  22\n",
            "2   Raj   Python  25\n",
            "3 Asish     Java  45\n",
            "Accessing first and second row\n",
            "   Name Language\n",
            "1 Amiya        R\n",
            "2   Raj   Python\n",
            "3 Asish     Java\n"
          ]
        }
      ]
    },
    {
      "cell_type": "markdown",
      "source": [
        "### 3. Editing"
      ],
      "metadata": {
        "id": "ZVXc0rQLoAlF"
      }
    },
    {
      "cell_type": "code",
      "source": [
        "df = data.frame(\n",
        "  \"Name\" = c(\"Amiya\", \"Raj\", \"Asish\"),\n",
        "  \"Language\" = c(\"R\", \"Python\", \"Java\"),\n",
        "  \"Age\" = c(22, 25, 45)\n",
        ")\n",
        "print(df)\n",
        "\n",
        "df[[3]][3] = 30\n",
        "\n",
        "cat(\"After edited the dataframe\\n\")\n",
        "print(df)"
      ],
      "metadata": {
        "colab": {
          "base_uri": "https://localhost:8080/"
        },
        "id": "UZFCguUWoFMe",
        "outputId": "0483ee84-6855-44af-c4bf-0f1918697be4"
      },
      "execution_count": null,
      "outputs": [
        {
          "output_type": "stream",
          "name": "stdout",
          "text": [
            "   Name Language Age\n",
            "1 Amiya        R  22\n",
            "2   Raj   Python  25\n",
            "3 Asish     Java  45\n",
            "After edited the dataframe\n",
            "   Name Language Age\n",
            "1 Amiya        R  22\n",
            "2   Raj   Python  25\n",
            "3 Asish     Java  30\n"
          ]
        }
      ]
    },
    {
      "cell_type": "markdown",
      "source": [
        "### 4. Adding a row"
      ],
      "metadata": {
        "id": "MpEA6uNEoRJ8"
      }
    },
    {
      "cell_type": "code",
      "source": [
        "df = data.frame(\n",
        "  \"Name\" = c(\"Amiya\", \"Raj\", \"Asish\"),\n",
        "  \"Language\" = c(\"R\", \"Python\", \"Java\"),\n",
        "  \"Age\" = c(22, 25, 45)\n",
        ")\n",
        "cat(\"Before adding row\\n\")\n",
        "print(df)\n",
        "\n",
        "# Add a new row using rbind()\n",
        "newDf = rbind(df, data.frame(Name = \"Sandeep\",\n",
        "                             Language = \"C\",\n",
        "                             Age = 23\n",
        "))\n",
        "cat(\"After Added a row\\n\")\n",
        "print(newDf)"
      ],
      "metadata": {
        "colab": {
          "base_uri": "https://localhost:8080/"
        },
        "id": "TXzeUpe6oQug",
        "outputId": "0daafe81-31a9-44fa-f07f-3faa054cdf52"
      },
      "execution_count": null,
      "outputs": [
        {
          "output_type": "stream",
          "name": "stdout",
          "text": [
            "Before adding row\n",
            "   Name Language Age\n",
            "1 Amiya        R  22\n",
            "2   Raj   Python  25\n",
            "3 Asish     Java  45\n",
            "After Added a row\n",
            "     Name Language Age\n",
            "1   Amiya        R  22\n",
            "2     Raj   Python  25\n",
            "3   Asish     Java  45\n",
            "4 Sandeep        C  23\n"
          ]
        }
      ]
    },
    {
      "cell_type": "markdown",
      "source": [
        "### 5. Column renaming"
      ],
      "metadata": {
        "id": "TyFcwq-BopU0"
      }
    },
    {
      "cell_type": "code",
      "source": [
        "df<-data.frame(col1 = 0:2, col2 = 3:5, col3 = 6:8)\n",
        "print(\"Original Data Frame\")\n",
        "print(df)\n",
        "print(\"Modified Data Frame\")\n",
        "names(df)[names(df)==\"row3\"] <-\"three\"\n",
        "print(df)"
      ],
      "metadata": {
        "colab": {
          "base_uri": "https://localhost:8080/"
        },
        "id": "qEx24ptqocCL",
        "outputId": "a06f5e5a-8651-467e-8b74-2ac764f65127"
      },
      "execution_count": null,
      "outputs": [
        {
          "output_type": "stream",
          "name": "stdout",
          "text": [
            "[1] \"Original Data Frame\"\n",
            "  col1 col2 col3\n",
            "1    0    3    6\n",
            "2    1    4    7\n",
            "3    2    5    8\n",
            "[1] \"Modified Data Frame\"\n",
            "  col1 col2 col3\n",
            "1    0    3    6\n",
            "2    1    4    7\n",
            "3    2    5    8\n"
          ]
        }
      ]
    },
    {
      "cell_type": "markdown",
      "source": [
        "### 6. Adding columns"
      ],
      "metadata": {
        "id": "Aev2mLZZowS8"
      }
    },
    {
      "cell_type": "code",
      "source": [
        "df<-data.frame(col1 = 0:2, col2 = 3:5, col3 = 6:8)\n",
        "print (\"Original Data Frame\")\n",
        "print (df)\n",
        "\n",
        "df$\"col4\"<-0\n",
        "df$\"col5\"<-NA\n",
        "df[[\"col5\"]] <- df[[\"col1\"]] + df[[\"col2\"]]\n",
        "print (\"Modified Data Frame\")\n",
        "print (df)"
      ],
      "metadata": {
        "colab": {
          "base_uri": "https://localhost:8080/"
        },
        "id": "25P1szz4odx-",
        "outputId": "24fcd488-c05c-436a-825b-3b97752075e2"
      },
      "execution_count": null,
      "outputs": [
        {
          "output_type": "stream",
          "name": "stdout",
          "text": [
            "[1] \"Original Data Frame\"\n",
            "  col1 col2 col3\n",
            "1    0    3    6\n",
            "2    1    4    7\n",
            "3    2    5    8\n",
            "[1] \"Modified Data Frame\"\n",
            "  col1 col2 col3 col4 col5\n",
            "1    0    3    6    0    3\n",
            "2    1    4    7    0    5\n",
            "3    2    5    8    0    7\n"
          ]
        }
      ]
    },
    {
      "cell_type": "markdown",
      "source": [
        "### 7. Removing columns"
      ],
      "metadata": {
        "id": "gEbNH31so17M"
      }
    },
    {
      "cell_type": "code",
      "source": [
        "df<-data.frame(col1 = 0:2, col2 = 3:5, col3 = 6:8)\n",
        "print (\"Original Data Frame\")\n",
        "print (df)\n",
        "df[[\"col2\"]]<-NULL\n",
        "print(df)\n",
        "\n",
        "#by index:\n",
        "df<-data.frame(col1 = 0:2, col2 = 3:5, col3 = 6:8)\n",
        "print (\"Original Data Frame\")\n",
        "print (df)\n",
        "#removing two columns\n",
        "df <- df [-c(1, 3)]\n",
        "print(df)"
      ],
      "metadata": {
        "colab": {
          "base_uri": "https://localhost:8080/"
        },
        "id": "pP0hKuVmokkj",
        "outputId": "0386c00d-b267-49f5-9053-f917f53b338f"
      },
      "execution_count": null,
      "outputs": [
        {
          "output_type": "stream",
          "name": "stdout",
          "text": [
            "[1] \"Original Data Frame\"\n",
            "  col1 col2 col3\n",
            "1    0    3    6\n",
            "2    1    4    7\n",
            "3    2    5    8\n",
            "  col1 col3\n",
            "1    0    6\n",
            "2    1    7\n",
            "3    2    8\n",
            "[1] \"Original Data Frame\"\n",
            "  col1 col2 col3\n",
            "1    0    3    6\n",
            "2    1    4    7\n",
            "3    2    5    8\n",
            "  col2\n",
            "1    3\n",
            "2    4\n",
            "3    5\n"
          ]
        }
      ]
    },
    {
      "cell_type": "markdown",
      "source": [
        "### 8. Subsetting dataframe"
      ],
      "metadata": {
        "id": "btUJ_jOrpFsP"
      }
    },
    {
      "cell_type": "code",
      "source": [
        "df<-data.frame(col1 = 0:2, col2 = 3:5, col3 = 6:8)\n",
        "print (\"Original Data Frame\")\n",
        "print (df)\n",
        "\n",
        "df<-subset(df, select = - c(col1, col2))\n",
        "print(\"Modified Data Frame\")\n",
        "print(df)"
      ],
      "metadata": {
        "colab": {
          "base_uri": "https://localhost:8080/"
        },
        "id": "Wj9D8ctYol3P",
        "outputId": "3cdaf04f-92ce-4c42-9ebc-31c4e9bc194a"
      },
      "execution_count": null,
      "outputs": [
        {
          "output_type": "stream",
          "name": "stdout",
          "text": [
            "[1] \"Original Data Frame\"\n",
            "  col1 col2 col3\n",
            "1    0    3    6\n",
            "2    1    4    7\n",
            "3    2    5    8\n",
            "[1] \"Modified Data Frame\"\n",
            "  col3\n",
            "1    6\n",
            "2    7\n",
            "3    8\n"
          ]
        }
      ]
    },
    {
      "cell_type": "markdown",
      "source": [
        "### 9. Deleting rows and colummns:"
      ],
      "metadata": {
        "id": "bPmY7u0NpBE8"
      }
    },
    {
      "cell_type": "code",
      "source": [
        "df = data.frame(\n",
        "  \"Name\" = c(\"Amiya\", \"Raj\", \"Asish\"),\n",
        "  \"Language\" = c(\"R\", \"Python\", \"Java\"),\n",
        "  \"Age\" = c(22, 25, 45))\n",
        "cat(\"Before deleting the 3rd row and 2nd column\\n\")\n",
        "print(df)\n",
        "newDF = df[-3, -2]\n",
        "cat(\"After Deleted the 3rd row and 2nd column\\n\")\n",
        "print(newDF)"
      ],
      "metadata": {
        "colab": {
          "base_uri": "https://localhost:8080/"
        },
        "id": "N6gKdz4lonH8",
        "outputId": "08d802c3-94d2-48fe-f118-babfebae52a7"
      },
      "execution_count": null,
      "outputs": [
        {
          "output_type": "stream",
          "name": "stdout",
          "text": [
            "Before deleting the 3rd row and 2nd column\n",
            "   Name Language Age\n",
            "1 Amiya        R  22\n",
            "2   Raj   Python  25\n",
            "3 Asish     Java  45\n",
            "After Deleted the 3rd row and 2nd column\n",
            "   Name Age\n",
            "1 Amiya  22\n",
            "2   Raj  25\n"
          ]
        }
      ]
    },
    {
      "cell_type": "markdown",
      "source": [
        "## Reading CSV files"
      ],
      "metadata": {
        "id": "cV_0CbPXnZ0Q"
      }
    },
    {
      "cell_type": "code",
      "source": [
        "myData = read.csv(\"basic.csv\")\n",
        "print(myData)"
      ],
      "metadata": {
        "colab": {
          "base_uri": "https://localhost:8080/"
        },
        "id": "1kACBbxpnYaX",
        "outputId": "1854b10d-9464-4020-be49-f3ab4eed0326"
      },
      "execution_count": null,
      "outputs": [
        {
          "output_type": "stream",
          "name": "stdout",
          "text": [
            "   Name Age Occupation          City\n",
            "1  John  23   Engineer      New York\n",
            "2 Alice  30     Doctor   Los Angeles\n",
            "3   Bob  45     Artist       Chicago\n",
            "4 Emily  25  Scientist San Francisco\n"
          ]
        }
      ]
    }
  ]
}